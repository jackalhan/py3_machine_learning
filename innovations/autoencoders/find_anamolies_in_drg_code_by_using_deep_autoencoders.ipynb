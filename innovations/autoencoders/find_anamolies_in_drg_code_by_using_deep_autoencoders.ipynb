{
 "cells": [
  {
   "cell_type": "code",
   "execution_count": 1,
   "metadata": {},
   "outputs": [
    {
     "name": "stderr",
     "output_type": "stream",
     "text": [
      "Using TensorFlow backend.\n"
     ]
    }
   ],
   "source": [
    "import pandas as pd\n",
    "import numpy as np\n",
    "import pickle\n",
    "import matplotlib.pyplot as plt\n",
    "from scipy import stats\n",
    "import tensorflow as tf\n",
    "import seaborn as sns\n",
    "from pylab import rcParams\n",
    "from sklearn.model_selection import train_test_split\n",
    "from keras.models import Model, load_model\n",
    "from keras.layers import Input, Dense\n",
    "from keras.callbacks import ModelCheckpoint, TensorBoard\n",
    "from keras import regularizers\n",
    "\n",
    "%matplotlib inline\n",
    "\n",
    "sns.set(style='whitegrid', palette='muted', font_scale=1.5)\n",
    "\n",
    "rcParams['figure.figsize'] = 14, 8\n",
    "\n",
    "RANDOM_SEED = 42"
   ]
  },
  {
   "cell_type": "code",
   "execution_count": 2,
   "metadata": {},
   "outputs": [],
   "source": [
    "\n",
    "df = pd.read_csv('/home/cakaltc1/Development/projects/application_files/experiments/ip_accounts_hiar_tfidf/generated_files/20171004/246_calculated_tfidf_for_term_value_matrix.csv')"
   ]
  },
  {
   "cell_type": "code",
   "execution_count": 3,
   "metadata": {},
   "outputs": [
    {
     "data": {
      "text/plain": [
       "(497, 310)"
      ]
     },
     "execution_count": 3,
     "metadata": {},
     "output_type": "execute_result"
    }
   ],
   "source": [
    "df.shape"
   ]
  },
  {
   "cell_type": "code",
   "execution_count": 4,
   "metadata": {},
   "outputs": [],
   "source": [
    "# count_classes = pd.value_counts(df['Class'], sort = True)\n",
    "# count_classes.plot(kind = 'bar', rot=0)\n",
    "# plt.title(\"Transaction class distribution\")\n",
    "# plt.xticks(range(2), LABELS)\n",
    "# plt.xlabel(\"Class\")\n",
    "# plt.ylabel(\"Frequency\");\n",
    "# df.describe()\n"
   ]
  },
  {
   "cell_type": "code",
   "execution_count": 5,
   "metadata": {},
   "outputs": [],
   "source": [
    "\n",
    "X_train, X_test = train_test_split(df, test_size=0.2, random_state=RANDOM_SEED)\n",
    "X_train = X_train.values\n",
    "X_test = X_test.values"
   ]
  },
  {
   "cell_type": "code",
   "execution_count": 6,
   "metadata": {},
   "outputs": [
    {
     "data": {
      "text/plain": [
       "(397, 310)"
      ]
     },
     "execution_count": 6,
     "metadata": {},
     "output_type": "execute_result"
    }
   ],
   "source": [
    "X_train.shape"
   ]
  },
  {
   "cell_type": "code",
   "execution_count": 16,
   "metadata": {},
   "outputs": [
    {
     "data": {
      "text/plain": [
       "155"
      ]
     },
     "execution_count": 16,
     "metadata": {},
     "output_type": "execute_result"
    }
   ],
   "source": [
    "input_dim = X_train.shape[1]\n",
    "import math\n",
    "encoding_dim = math.floor(input_dim * .5)\n",
    "encoding_dim"
   ]
  },
  {
   "cell_type": "code",
   "execution_count": 17,
   "metadata": {},
   "outputs": [],
   "source": [
    "input_layer = Input(shape=(input_dim, ))\n",
    "\n",
    "encoder = Dense(encoding_dim, activation=\"tanh\", \n",
    "                activity_regularizer=regularizers.l1(10e-5))(input_layer)\n",
    "encoder = Dense(int(encoding_dim / 2), activation=\"relu\")(encoder)\n",
    "\n",
    "decoder = Dense(int(encoding_dim / 2), activation='tanh')(encoder)\n",
    "decoder = Dense(input_dim, activation='relu')(decoder)\n",
    "\n",
    "autoencoder = Model(inputs=input_layer, outputs=decoder)"
   ]
  },
  {
   "cell_type": "code",
   "execution_count": 18,
   "metadata": {},
   "outputs": [
    {
     "name": "stdout",
     "output_type": "stream",
     "text": [
      "Train on 397 samples, validate on 100 samples\n",
      "Epoch 1/100\n",
      "397/397 [==============================] - 0s - loss: 1518419359.5970 - acc: 0.7179 - val_loss: 1516530135.0400 - val_acc: 1.0000\n",
      "Epoch 2/100\n",
      "397/397 [==============================] - 0s - loss: 1518401387.6877 - acc: 1.0000 - val_loss: 1516517416.9600 - val_acc: 1.0000\n",
      "Epoch 3/100\n",
      "397/397 [==============================] - 0s - loss: 1518390495.1133 - acc: 1.0000 - val_loss: 1516507473.9200 - val_acc: 1.0000\n",
      "Epoch 4/100\n",
      "397/397 [==============================] - 0s - loss: 1518380749.0579 - acc: 1.0000 - val_loss: 1516497858.5600 - val_acc: 1.0000\n",
      "Epoch 5/100\n",
      "397/397 [==============================] - 0s - loss: 1518371224.8262 - acc: 1.0000 - val_loss: 1516488453.1200 - val_acc: 1.0000\n",
      "Epoch 6/100\n",
      "397/397 [==============================] - 0s - loss: 1518362003.0227 - acc: 1.0000 - val_loss: 1516479354.8800 - val_acc: 1.0000\n",
      "Epoch 7/100\n",
      "397/397 [==============================] - 0s - loss: 1518352915.6675 - acc: 1.0000 - val_loss: 1516470328.3200 - val_acc: 1.0000\n",
      "Epoch 8/100\n",
      "397/397 [==============================] - 0s - loss: 1518343833.4710 - acc: 1.0000 - val_loss: 1516461491.2000 - val_acc: 1.0000.00\n",
      "Epoch 9/100\n",
      "397/397 [==============================] - 0s - loss: 1518334859.9295 - acc: 1.0000 - val_loss: 1516452331.5200 - val_acc: 1.0000\n",
      "Epoch 10/100\n",
      "397/397 [==============================] - 0s - loss: 1518325969.8942 - acc: 1.0000 - val_loss: 1516443581.4400 - val_acc: 1.0000\n",
      "Epoch 11/100\n",
      "397/397 [==============================] - 0s - loss: 1518317063.0932 - acc: 1.0000 - val_loss: 1516434739.2000 - val_acc: 1.0000\n",
      "Epoch 12/100\n",
      "397/397 [==============================] - 0s - loss: 1518308207.5567 - acc: 1.0000 - val_loss: 1516425886.7200 - val_acc: 1.0000\n",
      "Epoch 13/100\n",
      "397/397 [==============================] - 0s - loss: 1518299340.0907 - acc: 1.0000 - val_loss: 1516417116.1600 - val_acc: 1.0000\n",
      "Epoch 14/100\n",
      "397/397 [==============================] - 0s - loss: 1518290564.8363 - acc: 1.0000 - val_loss: 1516408273.9200 - val_acc: 1.0000.\n",
      "Epoch 15/100\n",
      "397/397 [==============================] - 0s - loss: 1518281765.4005 - acc: 1.0000 - val_loss: 1516399503.3600 - val_acc: 1.0000\n",
      "Epoch 16/100\n",
      "397/397 [==============================] - 0s - loss: 1518272989.8237 - acc: 1.0000 - val_loss: 1516390666.2400 - val_acc: 1.0000\n",
      "Epoch 17/100\n",
      "397/397 [==============================] - 0s - loss: 1518264211.9899 - acc: 1.0000 - val_loss: 1516382105.6000 - val_acc: 1.0000\n",
      "Epoch 18/100\n",
      "397/397 [==============================] - 0s - loss: 1518255464.4635 - acc: 1.0000 - val_loss: 1516373248.0000 - val_acc: 1.0000\n",
      "Epoch 19/100\n",
      "397/397 [==============================] - 0s - loss: 1518246736.2821 - acc: 1.0000 - val_loss: 1516364456.9600 - val_acc: 1.0000\n",
      "Epoch 20/100\n",
      "397/397 [==============================] - 0s - loss: 1518238007.4559 - acc: 1.0000 - val_loss: 1516355916.8000 - val_acc: 1.0000\n",
      "Epoch 21/100\n",
      "397/397 [==============================] - 0s - loss: 1518229257.0277 - acc: 1.0000 - val_loss: 1516347100.1600 - val_acc: 1.0000\n",
      "Epoch 22/100\n",
      "397/397 [==============================] - 0s - loss: 1518220548.5139 - acc: 1.0000 - val_loss: 1516338268.1600 - val_acc: 1.0000\n",
      "Epoch 23/100\n",
      "397/397 [==============================] - 0s - loss: 1518211845.8035 - acc: 1.0000 - val_loss: 1516329707.5200 - val_acc: 1.0000\n",
      "Epoch 24/100\n",
      "397/397 [==============================] - 0s - loss: 1518203135.3552 - acc: 1.0000 - val_loss: 1516320890.8800 - val_acc: 1.0000\n",
      "Epoch 25/100\n",
      "397/397 [==============================] - 0s - loss: 1518194426.5189 - acc: 1.0000 - val_loss: 1516312350.7200 - val_acc: 1.0000\n",
      "Epoch 26/100\n",
      "397/397 [==============================] - 0s - loss: 1518185717.6826 - acc: 1.0000 - val_loss: 1516303575.0400 - val_acc: 1.0000\n",
      "Epoch 27/100\n",
      "397/397 [==============================] - 0s - loss: 1518177044.3123 - acc: 1.0000 - val_loss: 1516294999.0400 - val_acc: 1.0000\n",
      "Epoch 28/100\n",
      "397/397 [==============================] - 0s - loss: 1518168374.1662 - acc: 1.0000 - val_loss: 1516286167.0400 - val_acc: 1.0000\n",
      "Epoch 29/100\n",
      "397/397 [==============================] - 0s - loss: 1518159672.1008 - acc: 1.0000 - val_loss: 1516277626.8800 - val_acc: 1.0000\n",
      "Epoch 30/100\n",
      "397/397 [==============================] - 0s - loss: 1518150977.7733 - acc: 1.0000 - val_loss: 1516268810.2400 - val_acc: 1.0000\n",
      "Epoch 31/100\n",
      "397/397 [==============================] - 0s - loss: 1518142318.2670 - acc: 1.0000 - val_loss: 1516260290.5600 - val_acc: 1.0000\n",
      "Epoch 32/100\n",
      "397/397 [==============================] - 0s - loss: 1518133653.6020 - acc: 1.0000 - val_loss: 1516251473.9200 - val_acc: 1.0000\n",
      "Epoch 33/100\n",
      "397/397 [==============================] - 0s - loss: 1518124982.4887 - acc: 1.0000 - val_loss: 1516242918.4000 - val_acc: 1.0000\n",
      "Epoch 34/100\n",
      "397/397 [==============================] - 0s - loss: 1518116293.9647 - acc: 1.0000 - val_loss: 1516234393.6000 - val_acc: 1.0000\n",
      "Epoch 35/100\n",
      "397/397 [==============================] - 0s - loss: 1518107655.7380 - acc: 1.0000 - val_loss: 1516225582.0800 - val_acc: 1.0000\n",
      "Epoch 36/100\n",
      "397/397 [==============================] - 0s - loss: 1518098997.1990 - acc: 1.0000 - val_loss: 1516217047.0400 - val_acc: 1.0000\n",
      "Epoch 37/100\n",
      "397/397 [==============================] - 0s - loss: 1518090332.2116 - acc: 1.0000 - val_loss: 1516208486.4000 - val_acc: 1.0000\n",
      "Epoch 38/100\n",
      "397/397 [==============================] - 0s - loss: 1518081686.8917 - acc: 1.0000 - val_loss: 1516199710.7200 - val_acc: 1.0000\n",
      "Epoch 39/100\n",
      "397/397 [==============================] - 0s - loss: 1518073046.7305 - acc: 1.0000 - val_loss: 1516191129.6000 - val_acc: 1.0000\n",
      "Epoch 40/100\n",
      "397/397 [==============================] - 0s - loss: 1518064357.5617 - acc: 1.0000 - val_loss: 1516182338.5600 - val_acc: 1.0000\n",
      "Epoch 41/100\n",
      "397/397 [==============================] - 0s - loss: 1518055740.6146 - acc: 1.0000 - val_loss: 1516173783.0400 - val_acc: 1.0000\n",
      "Epoch 42/100\n",
      "397/397 [==============================] - 0s - loss: 1518047049.5113 - acc: 1.0000 - val_loss: 1516165201.9200 - val_acc: 1.0000.00\n",
      "Epoch 43/100\n",
      "397/397 [==============================] - 0s - loss: 1518038404.8363 - acc: 1.0000 - val_loss: 1516156426.2400 - val_acc: 1.0000\n",
      "Epoch 44/100\n",
      "397/397 [==============================] - 0s - loss: 1518029782.7305 - acc: 1.0000 - val_loss: 1516147845.1200 - val_acc: 1.0000\n",
      "Epoch 45/100\n",
      "397/397 [==============================] - 0s - loss: 1518021150.9521 - acc: 1.0000 - val_loss: 1516139366.4000 - val_acc: 1.0000\n",
      "Epoch 46/100\n",
      "397/397 [==============================] - 0s - loss: 1518012487.2544 - acc: 1.0000 - val_loss: 1516130529.2800 - val_acc: 1.0000\n",
      "Epoch 47/100\n",
      "397/397 [==============================] - 0s - loss: 1518003861.6020 - acc: 1.0000 - val_loss: 1516121948.1600 - val_acc: 1.0000\n",
      "Epoch 48/100\n",
      "397/397 [==============================] - 0s - loss: 1517995227.8892 - acc: 1.0000 - val_loss: 1516113454.0800 - val_acc: 1.0000\n",
      "Epoch 49/100\n",
      "397/397 [==============================] - 0s - loss: 1517986586.7607 - acc: 1.0000 - val_loss: 1516104601.6000 - val_acc: 1.0000\n",
      "Epoch 50/100\n",
      "397/397 [==============================] - 0s - loss: 1517977937.8942 - acc: 1.0000 - val_loss: 1516096081.9200 - val_acc: 1.0000\n",
      "Epoch 51/100\n",
      "397/397 [==============================] - 0s - loss: 1517969329.3300 - acc: 1.0000 - val_loss: 1516087541.7600 - val_acc: 1.0000\n",
      "Epoch 52/100\n",
      "397/397 [==============================] - 0s - loss: 1517960682.0756 - acc: 1.0000 - val_loss: 1516078965.7600 - val_acc: 1.0000\n",
      "Epoch 53/100\n",
      "397/397 [==============================] - 0s - loss: 1517952052.5542 - acc: 1.0000 - val_loss: 1516070144.0000 - val_acc: 1.0000\n",
      "Epoch 54/100\n",
      "397/397 [==============================] - 0s - loss: 1517943383.0529 - acc: 1.0000 - val_loss: 1516061649.9200 - val_acc: 1.0000\n",
      "Epoch 55/100\n",
      "397/397 [==============================] - 0s - loss: 1517934776.4232 - acc: 1.0000 - val_loss: 1516053094.4000 - val_acc: 1.0000\n",
      "Epoch 56/100\n",
      "397/397 [==============================] - 0s - loss: 1517926143.3552 - acc: 1.0000 - val_loss: 1516044277.7600 - val_acc: 1.0000\n",
      "Epoch 57/100\n"
     ]
    },
    {
     "name": "stdout",
     "output_type": "stream",
     "text": [
      "397/397 [==============================] - 0s - loss: 1517917476.7557 - acc: 1.0000 - val_loss: 1516035737.6000 - val_acc: 1.0000\n",
      "Epoch 58/100\n",
      "397/397 [==============================] - 0s - loss: 1517908878.1864 - acc: 1.0000 - val_loss: 1516027161.6000 - val_acc: 1.0000\n",
      "Epoch 59/100\n",
      "397/397 [==============================] - 0s - loss: 1517900281.8741 - acc: 1.0000 - val_loss: 1516018636.8000 - val_acc: 1.0000\n",
      "Epoch 60/100\n",
      "397/397 [==============================] - 0s - loss: 1517891636.5542 - acc: 1.0000 - val_loss: 1516009845.7600 - val_acc: 1.0000\n",
      "Epoch 61/100\n",
      "397/397 [==============================] - 0s - loss: 1517883003.8086 - acc: 1.0000 - val_loss: 1516001249.2800 - val_acc: 1.0000\n",
      "Epoch 62/100\n",
      "397/397 [==============================] - 0s - loss: 1517874348.8161 - acc: 1.0000 - val_loss: 1515992709.1200 - val_acc: 1.0000.\n",
      "Epoch 63/100\n",
      "397/397 [==============================] - 0s - loss: 1517865721.5516 - acc: 1.0000 - val_loss: 1515983892.4800 - val_acc: 1.0000\n",
      "Epoch 64/100\n",
      "397/397 [==============================] - 0s - loss: 1517857092.0302 - acc: 1.0000 - val_loss: 1515975393.2800 - val_acc: 1.0000\n",
      "Epoch 65/100\n",
      "397/397 [==============================] - 0s - loss: 1517848489.2695 - acc: 1.0000 - val_loss: 1515966853.1200 - val_acc: 1.0000\n",
      "Epoch 66/100\n",
      "397/397 [==============================] - 0s - loss: 1517839831.6977 - acc: 1.0000 - val_loss: 1515958297.6000 - val_acc: 1.0000\n",
      "Epoch 67/100\n",
      "397/397 [==============================] - 0s - loss: 1517831225.7128 - acc: 1.0000 - val_loss: 1515949480.9600 - val_acc: 1.0000\n",
      "Epoch 68/100\n",
      "397/397 [==============================] - 0s - loss: 1517822614.5693 - acc: 1.0000 - val_loss: 1515940945.9200 - val_acc: 1.0000\n",
      "Epoch 69/100\n",
      "397/397 [==============================] - 0s - loss: 1517813983.7582 - acc: 1.0000 - val_loss: 1515932385.2800 - val_acc: 1.0000\n",
      "Epoch 70/100\n",
      "397/397 [==============================] - 0s - loss: 1517805370.6801 - acc: 1.0000 - val_loss: 1515923865.6000 - val_acc: 1.0000\n",
      "Epoch 71/100\n",
      "397/397 [==============================] - 0s - loss: 1517796751.4761 - acc: 1.0000 - val_loss: 1515915008.0000 - val_acc: 1.0000\n",
      "Epoch 72/100\n",
      "397/397 [==============================] - 0s - loss: 1517788100.3526 - acc: 1.0000 - val_loss: 1515906493.4400 - val_acc: 1.0000\n",
      "Epoch 73/100\n",
      "397/397 [==============================] - 0s - loss: 1517779488.8867 - acc: 1.0000 - val_loss: 1515897994.2400 - val_acc: 1.0000\n",
      "Epoch 74/100\n",
      "397/397 [==============================] - 0s - loss: 1517770907.4055 - acc: 1.0000 - val_loss: 1515889438.7200 - val_acc: 1.0000\n",
      "Epoch 75/100\n",
      "397/397 [==============================] - 0s - loss: 1517762265.9547 - acc: 1.0000 - val_loss: 1515880601.6000 - val_acc: 1.0000\n",
      "Epoch 76/100\n",
      "397/397 [==============================] - 0s - loss: 1517753663.8388 - acc: 1.0000 - val_loss: 1515872040.9600 - val_acc: 1.0000\n",
      "Epoch 77/100\n",
      "397/397 [==============================] - 0s - loss: 1517745053.9849 - acc: 1.0000 - val_loss: 1515863567.3600 - val_acc: 1.0000\n",
      "Epoch 78/100\n",
      "397/397 [==============================] - 0s - loss: 1517736409.6322 - acc: 1.0000 - val_loss: 1515854991.3600 - val_acc: 1.0000\n",
      "Epoch 79/100\n",
      "397/397 [==============================] - 0s - loss: 1517727789.4610 - acc: 1.0000 - val_loss: 1515846169.6000 - val_acc: 1.0000\n",
      "Epoch 80/100\n",
      "397/397 [==============================] - 0s - loss: 1517719150.9118 - acc: 1.0000 - val_loss: 1515837593.6000 - val_acc: 1.0000\n",
      "Epoch 81/100\n",
      "397/397 [==============================] - 0s - loss: 1517710573.2997 - acc: 1.0000 - val_loss: 1515829073.9200 - val_acc: 1.0000\n",
      "Epoch 82/100\n",
      "397/397 [==============================] - 0s - loss: 1517701986.6599 - acc: 1.0000 - val_loss: 1515820554.2400 - val_acc: 1.0000\n",
      "Epoch 83/100\n",
      "397/397 [==============================] - 0s - loss: 1517693367.7783 - acc: 1.0000 - val_loss: 1515811998.7200 - val_acc: 1.0000\n",
      "Epoch 84/100\n",
      "397/397 [==============================] - 0s - loss: 1517684749.8640 - acc: 1.0000 - val_loss: 1515803156.4800 - val_acc: 1.0000\n",
      "Epoch 85/100\n",
      "397/397 [==============================] - 0s - loss: 1517676158.7103 - acc: 1.0000 - val_loss: 1515794641.9200 - val_acc: 1.0000\n",
      "Epoch 86/100\n",
      "397/397 [==============================] - 0s - loss: 1517667525.3199 - acc: 1.0000 - val_loss: 1515786086.4000 - val_acc: 1.0000\n",
      "Epoch 87/100\n",
      "397/397 [==============================] - 0s - loss: 1517658892.5743 - acc: 1.0000 - val_loss: 1515777566.7200 - val_acc: 1.0000\n",
      "Epoch 88/100\n",
      "397/397 [==============================] - 0s - loss: 1517650279.4962 - acc: 1.0000 - val_loss: 1515768729.6000 - val_acc: 1.0000\n",
      "Epoch 89/100\n",
      "397/397 [==============================] - 0s - loss: 1517641649.9748 - acc: 1.0000 - val_loss: 1515760194.5600 - val_acc: 1.0000\n",
      "Epoch 90/100\n",
      "397/397 [==============================] - 0s - loss: 1517633032.0605 - acc: 1.0000 - val_loss: 1515751669.7600 - val_acc: 1.0000\n",
      "Epoch 91/100\n",
      "397/397 [==============================] - 0s - loss: 1517624434.1360 - acc: 1.0000 - val_loss: 1515743134.7200 - val_acc: 1.0000\n",
      "Epoch 92/100\n",
      "397/397 [==============================] - 0s - loss: 1517615811.0630 - acc: 1.0000 - val_loss: 1515734302.7200 - val_acc: 1.0000\n",
      "Epoch 93/100\n",
      "397/397 [==============================] - 0s - loss: 1517607232.4836 - acc: 1.0000 - val_loss: 1515725762.5600 - val_acc: 1.0000\n",
      "Epoch 94/100\n",
      "397/397 [==============================] - 0s - loss: 1517598654.2267 - acc: 1.0000 - val_loss: 1515717222.4000 - val_acc: 1.0000\n",
      "Epoch 95/100\n",
      "397/397 [==============================] - 0s - loss: 1517589967.6373 - acc: 1.0000 - val_loss: 1515708687.3600 - val_acc: 1.0000\n",
      "Epoch 96/100\n",
      "397/397 [==============================] - 0s - loss: 1517581391.9597 - acc: 1.0000 - val_loss: 1515700131.8400 - val_acc: 1.0000\n",
      "Epoch 97/100\n",
      "397/397 [==============================] - 0s - loss: 1517572769.2091 - acc: 1.0000 - val_loss: 1515691330.5600 - val_acc: 1.0000\n",
      "Epoch 98/100\n",
      "397/397 [==============================] - 0s - loss: 1517564158.7103 - acc: 1.0000 - val_loss: 1515682775.0400 - val_acc: 1.0000\n",
      "Epoch 99/100\n",
      "397/397 [==============================] - 0s - loss: 1517555585.6121 - acc: 1.0000 - val_loss: 1515674234.8800 - val_acc: 1.0000\n",
      "Epoch 100/100\n",
      "397/397 [==============================] - 0s - loss: 1517546948.6751 - acc: 1.0000 - val_loss: 1515665674.2400 - val_acc: 1.0000\n"
     ]
    }
   ],
   "source": [
    "nb_epoch = 100\n",
    "batch_size = 16\n",
    "\n",
    "autoencoder.compile(optimizer='adam', \n",
    "                    loss='mean_squared_error', \n",
    "                    metrics=['accuracy'])\n",
    "\n",
    "checkpointer = ModelCheckpoint(filepath=\"model.h5\",\n",
    "                               verbose=0,\n",
    "                               save_best_only=True)\n",
    "tensorboard = TensorBoard(log_dir='./logs',\n",
    "                          histogram_freq=0,\n",
    "                          write_graph=True,\n",
    "                          write_images=True)\n",
    "\n",
    "history = autoencoder.fit(X_train, X_train,\n",
    "                    epochs=nb_epoch,\n",
    "                    batch_size=batch_size,\n",
    "                    shuffle=True,\n",
    "                    validation_data=(X_test, X_test),\n",
    "                    verbose=1,\n",
    "                    callbacks=[checkpointer, tensorboard]).history"
   ]
  },
  {
   "cell_type": "code",
   "execution_count": 19,
   "metadata": {},
   "outputs": [],
   "source": [
    "autoencoder = load_model('model.h5')"
   ]
  },
  {
   "cell_type": "code",
   "execution_count": 20,
   "metadata": {},
   "outputs": [
    {
     "data": {
      "image/png": "[encoded data removed]",
      "text/plain": [
       "<matplotlib.figure.Figure at 0x7fdbe05a7e80>"
      ]
     },
     "metadata": {},
     "output_type": "display_data"
    }
   ],
   "source": [
    "\n",
    "plt.plot(history['loss'])\n",
    "plt.plot(history['val_loss'])\n",
    "plt.title('model loss')\n",
    "plt.ylabel('loss')\n",
    "plt.xlabel('epoch')\n",
    "plt.legend(['train', 'test'], loc='upper right');"
   ]
  },
  {
   "cell_type": "code",
   "execution_count": 21,
   "metadata": {
    "scrolled": false
   },
   "outputs": [],
   "source": [
    "predictions = autoencoder.predict(X_test)"
   ]
  },
  {
   "cell_type": "code",
   "execution_count": 22,
   "metadata": {},
   "outputs": [
    {
     "ename": "NameError",
     "evalue": "name 'y_test' is not defined",
     "output_type": "error",
     "traceback": [
      "\u001b[0;31m---------------------------------------------------------------------------\u001b[0m",
      "\u001b[0;31mNameError\u001b[0m                                 Traceback (most recent call last)",
      "\u001b[0;32m<ipython-input-22-efcdb38b9ea5>\u001b[0m in \u001b[0;36m<module>\u001b[0;34m()\u001b[0m\n\u001b[1;32m      1\u001b[0m \u001b[0mmse\u001b[0m \u001b[0;34m=\u001b[0m \u001b[0mnp\u001b[0m\u001b[0;34m.\u001b[0m\u001b[0mmean\u001b[0m\u001b[0;34m(\u001b[0m\u001b[0mnp\u001b[0m\u001b[0;34m.\u001b[0m\u001b[0mpower\u001b[0m\u001b[0;34m(\u001b[0m\u001b[0mX_test\u001b[0m \u001b[0;34m-\u001b[0m \u001b[0mpredictions\u001b[0m\u001b[0;34m,\u001b[0m \u001b[0;36m2\u001b[0m\u001b[0;34m)\u001b[0m\u001b[0;34m,\u001b[0m \u001b[0maxis\u001b[0m\u001b[0;34m=\u001b[0m\u001b[0;36m1\u001b[0m\u001b[0;34m)\u001b[0m\u001b[0;34m\u001b[0m\u001b[0m\n\u001b[1;32m      2\u001b[0m error_df = pd.DataFrame({'reconstruction_error': mse,\n\u001b[0;32m----> 3\u001b[0;31m                         'true_class': y_test})\n\u001b[0m",
      "\u001b[0;31mNameError\u001b[0m: name 'y_test' is not defined"
     ]
    }
   ],
   "source": [
    "mse = np.mean(np.power(X_test - predictions, 2), axis=1)\n",
    "error_df = pd.DataFrame({'reconstruction_error': mse,\n",
    "                        'true_class': y_test})"
   ]
  },
  {
   "cell_type": "code",
   "execution_count": 68,
   "metadata": {},
   "outputs": [
    {
     "data": {
      "text/plain": [
       "'introducer_sheath_guiding_cathlab_27x'"
      ]
     },
     "execution_count": 68,
     "metadata": {},
     "output_type": "execute_result"
    }
   ],
   "source": [
    "data.columns[280]\n",
    "#data.columns[241]"
   ]
  }
 ],
 "metadata": {
  "kernelspec": {
   "display_name": "Python 3",
   "language": "python",
   "name": "python3"
  },
  "language_info": {
   "codemirror_mode": {
    "name": "ipython",
    "version": 3
   },
   "file_extension": ".py",
   "mimetype": "text/x-python",
   "name": "python",
   "nbconvert_exporter": "python",
   "pygments_lexer": "ipython3",
   "version": "3.5.2"
  }
 },
 "nbformat": 4,
 "nbformat_minor": 2
}
