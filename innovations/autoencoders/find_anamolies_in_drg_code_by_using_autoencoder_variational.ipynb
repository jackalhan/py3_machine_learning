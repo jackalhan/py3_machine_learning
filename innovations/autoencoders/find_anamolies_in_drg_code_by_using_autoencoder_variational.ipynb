{
 "cells": [
  {
   "cell_type": "code",
   "execution_count": 44,
   "metadata": {},
   "outputs": [],
   "source": [
    "import pandas as pd\n",
    "\n",
    "data = pd.read_csv('/home/cakaltc1/Development/projects/application_files/experiments/ip_accounts_hiar_tfidf/generated_files/20171004/246_calculated_tfidf_for_term_value_matrix.csv')"
   ]
  },
  {
   "cell_type": "code",
   "execution_count": 45,
   "metadata": {},
   "outputs": [
    {
     "name": "stdout",
     "output_type": "stream",
     "text": [
      "Feature Size:  309\n",
      "0    0.805482\n",
      "1    0.805482\n",
      "2    0.805482\n",
      "3    0.805482\n",
      "4    0.000000\n",
      "Name: stent_des_cathlab_27x, dtype: float64\n"
     ]
    }
   ],
   "source": [
    "from sklearn import preprocessing\n",
    "\n",
    "accounts = data['AccountID']\n",
    "del data['AccountID']\n",
    "\n",
    "min_max_scaler = preprocessing.MinMaxScaler()\n",
    "np_scaled = min_max_scaler.fit_transform(data)\n",
    "#data_n = pd.DataFrame(np_scaled)\n",
    "data_n = data\n",
    "data_n = data_n.astype('float32')\n",
    "\n",
    "feature_size = len(data.columns)\n",
    "print('Feature Size: ', feature_size)\n",
    "\n",
    "#before applied scaling\n",
    "print(data['stent_des_cathlab_27x'].head())\n",
    "#after applied scaling\n",
    "# print(data_n[299].head()) #->stent_des_cathlab_27x"
   ]
  },
  {
   "cell_type": "code",
   "execution_count": 82,
   "metadata": {},
   "outputs": [
    {
     "name": "stdout",
     "output_type": "stream",
     "text": [
      "latent dim: 30\n"
     ]
    },
    {
     "name": "stderr",
     "output_type": "stream",
     "text": [
      "/home/cakaltc1/Development/projects/github/py3_machine_learning/venv/lib/python3.5/site-packages/ipykernel_launcher.py:59: UserWarning: Output \"custom_variational_layer_8\" missing from loss dictionary. We assume this was done on purpose, and we will not be expecting any data to be passed to \"custom_variational_layer_8\" during training.\n"
     ]
    },
    {
     "name": "stdout",
     "output_type": "stream",
     "text": [
      "decoder_input.shape: (?, 30)\n",
      "_h_decoded.shape: (?, 154)\n",
      "_x_decoded_mean.shape: (?, 309)\n"
     ]
    }
   ],
   "source": [
    "import numpy as np\n",
    "from scipy.stats import norm\n",
    "from keras.layers import Input, Dense, Lambda, Layer\n",
    "from keras.models import Model\n",
    "from keras import backend as K\n",
    "from keras import metrics\n",
    "import math\n",
    "\n",
    "batch_size = 100\n",
    "original_dim = feature_size\n",
    "latent_dim = math.floor(feature_size * .1)\n",
    "intermediate_dim = math.floor(feature_size * .5)\n",
    "epochs = 500\n",
    "epsilon_std = 1.0\n",
    "\n",
    "print(\"latent dim:\", latent_dim)\n",
    "\n",
    "x = Input(shape=(original_dim,))\n",
    "h = Dense(intermediate_dim, activation='relu')(x)\n",
    "z_mean = Dense(latent_dim)(h)\n",
    "z_log_var = Dense(latent_dim)(h)\n",
    "\n",
    "def sampling(args):\n",
    "    z_mean, z_log_var = args\n",
    "    epsilon = K.random_normal(shape=(K.shape(z_mean)[0], latent_dim), mean=0.,\n",
    "                              stddev=epsilon_std)\n",
    "    return z_mean + K.exp(z_log_var / 2) * epsilon\n",
    "\n",
    "# note that \"output_shape\" isn't necessary with the TensorFlow backend\n",
    "z = Lambda(sampling, output_shape=(latent_dim,))([z_mean, z_log_var])\n",
    "\n",
    "# we instantiate these layers separately so as to reuse them later\n",
    "decoder_h = Dense(intermediate_dim, activation='relu')\n",
    "decoder_mean = Dense(original_dim, activation='sigmoid')\n",
    "h_decoded = decoder_h(z)\n",
    "x_decoded_mean = decoder_mean(h_decoded)\n",
    "\n",
    "# Custom loss layer\n",
    "class CustomVariationalLayer(Layer):\n",
    "    def __init__(self, **kwargs):\n",
    "        self.is_placeholder = True\n",
    "        super(CustomVariationalLayer, self).__init__(**kwargs)\n",
    "\n",
    "    def vae_loss(self, x, x_decoded_mean):\n",
    "        xent_loss = original_dim * metrics.binary_crossentropy(x, x_decoded_mean)\n",
    "        kl_loss = - 0.5 * K.sum(1 + z_log_var - K.square(z_mean) - K.exp(z_log_var), axis=-1)\n",
    "        return K.mean(xent_loss + kl_loss)\n",
    "\n",
    "    def call(self, inputs):\n",
    "        x = inputs[0]\n",
    "        x_decoded_mean = inputs[1]\n",
    "        loss = self.vae_loss(x, x_decoded_mean)\n",
    "        self.add_loss(loss, inputs=inputs)\n",
    "        # We won't actually use the output.\n",
    "        return x\n",
    "\n",
    "y = CustomVariationalLayer()([x, x_decoded_mean])\n",
    "vae = Model(x, y)\n",
    "vae.compile(optimizer='rmsprop', loss=None)\n",
    "\n",
    "#learning \n",
    "vae.fit(data_n.values,\n",
    "                epochs=epochs,\n",
    "                batch_size=batch_size,\n",
    "                shuffle=True,\n",
    "                verbose=0)\n",
    "\n",
    "encoder = Model(x, z_mean)\n",
    "x_test_encoded = encoder.predict(data_n.values, batch_size=batch_size)\n",
    "\n",
    "decoder_input = Input(shape=(latent_dim,))\n",
    "print('decoder_input.shape:', decoder_input.shape)\n",
    "\n",
    "_h_decoded = decoder_h(decoder_input)\n",
    "print('_h_decoded.shape:', _h_decoded.shape)\n",
    "\n",
    "_x_decoded_mean = decoder_mean(_h_decoded)\n",
    "print('_x_decoded_mean.shape:', _x_decoded_mean.shape)\n",
    "\n",
    "generator = Model(decoder_input, _x_decoded_mean)\n",
    "\n",
    "\n"
   ]
  },
  {
   "cell_type": "code",
   "execution_count": 83,
   "metadata": {},
   "outputs": [],
   "source": [
    "#EVALUATION\n",
    "\n",
    "encoded = encoder.predict(data_n.values)\n",
    "decoded = generator.predict(encoded)"
   ]
  },
  {
   "cell_type": "code",
   "execution_count": 84,
   "metadata": {},
   "outputs": [],
   "source": [
    "import numpy as np\n",
    "\n",
    "dist = np.zeros(len(data_n.values))\n",
    "for i, x in enumerate(data_n.values):\n",
    "    dist[i] = np.linalg.norm(x-decoded[i]) # euclidean distance"
   ]
  },
  {
   "cell_type": "code",
   "execution_count": 85,
   "metadata": {},
   "outputs": [],
   "source": [
    "import matplotlib.pyplot as plt\n",
    "def compute_error_per_dim(point):\n",
    "    p = np.array(data_n.iloc[point,:]).reshape(1,feature_size)\n",
    "    encoded = encoder.predict(p)\n",
    "    decoded = generator.predict(encoded)\n",
    "    return np.array(p - decoded)[0]"
   ]
  },
  {
   "cell_type": "code",
   "execution_count": 92,
   "metadata": {
    "scrolled": false
   },
   "outputs": [
    {
     "data": {
      "image/png": "[encoded data removed]",
      "text/plain": [
       "<matplotlib.figure.Figure at 0x7f404039ea58>"
      ]
     },
     "metadata": {},
     "output_type": "display_data"
    }
   ],
   "source": [
    "#print(compute_error_per_dim(1))\n",
    "\n",
    "account_index = 255\n",
    "plt.figure(figsize=(10,7))\n",
    "plt.plot(compute_error_per_dim(account_index))\n",
    "plt.xlim((0,feature_size))\n",
    "plt.xlabel('Index')\n",
    "plt.ylabel('Reconstruction error')\n",
    "plt.title(\"Reconstruction error in each dimension of point \" + str(account_index))\n",
    "plt.savefig(\"ae-outlier-reconstruction-\"+str(account_index)+\".svg\", format=\"svg\")\n",
    "plt.show()\n"
   ]
  },
  {
   "cell_type": "code",
   "execution_count": 93,
   "metadata": {},
   "outputs": [
    {
     "name": "stdout",
     "output_type": "stream",
     "text": [
      "[ 84 232 241 244 280]\n"
     ]
    }
   ],
   "source": [
    "# Return a list of the dimensions with the highest reconstruction error\n",
    "top10_features = np.argsort(compute_error_per_dim(account_index))[::-1][0:5]\n",
    "print(top10_features)"
   ]
  },
  {
   "cell_type": "code",
   "execution_count": 109,
   "metadata": {},
   "outputs": [
    {
     "name": "stdout",
     "output_type": "stream",
     "text": [
      "5824_93459_cathlab_481\n"
     ]
    }
   ],
   "source": [
    "list(data.columns).index(\"stent_des_cathlab_27x\")\n",
    "print(data.columns[84])"
   ]
  },
  {
   "cell_type": "code",
   "execution_count": 110,
   "metadata": {},
   "outputs": [
    {
     "name": "stdout",
     "output_type": "stream",
     "text": [
      "Account: 630959\n"
     ]
    },
    {
     "data": {
      "text/plain": [
       "0.20830798678378976"
      ]
     },
     "execution_count": 110,
     "metadata": {},
     "output_type": "execute_result"
    }
   ],
   "source": [
    "print('Account:',accounts[117])\n",
    "data.iloc[117]['5824_93459_cathlab_481']"
   ]
  }
 ],
 "metadata": {
  "kernelspec": {
   "display_name": "Python 3",
   "language": "python",
   "name": "python3"
  },
  "language_info": {
   "codemirror_mode": {
    "name": "ipython",
    "version": 3
   },
   "file_extension": ".py",
   "mimetype": "text/x-python",
   "name": "python",
   "nbconvert_exporter": "python",
   "pygments_lexer": "ipython3",
   "version": "3.5.2"
  }
 },
 "nbformat": 4,
 "nbformat_minor": 2
}
