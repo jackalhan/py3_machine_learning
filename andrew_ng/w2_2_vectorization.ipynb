{
 "cells": [
  {
   "cell_type": "code",
   "execution_count": 1,
   "metadata": {},
   "outputs": [
    {
     "name": "stdout",
     "output_type": "stream",
     "text": [
      "[1 2 3 4]\n"
     ]
    }
   ],
   "source": [
    "import numpy as np\n",
    "a = np.array([1,2,3,4])\n",
    "print(a)"
   ]
  },
  {
   "cell_type": "code",
   "execution_count": 3,
   "metadata": {},
   "outputs": [
    {
     "name": "stdout",
     "output_type": "stream",
     "text": [
      "CPU times: user 0 ns, sys: 0 ns, total: 0 ns\n",
      "Wall time: 13.4 µs\n",
      "[1 2 3 4]\n"
     ]
    }
   ],
   "source": [
    "%time\n",
    "print (a)"
   ]
  },
  {
   "cell_type": "code",
   "execution_count": 55,
   "metadata": {},
   "outputs": [
    {
     "name": "stdout",
     "output_type": "stream",
     "text": [
      "* Vectorized version of dot product: 249955.882646\n",
      "* Time elapsed for Vectorized version of production: 0.8637905120849609 ms\n",
      "* Non-Vectorized with \"for\" version of dot product: 249955.882646\n",
      "* Time elapsed for Non-Vectorized version with \"for\" of production: 302.02770233154297 ms\n",
      "** Vectorized version is roughly 350 times FASTER than the Non-Vectorized version\n"
     ]
    }
   ],
   "source": [
    "import time\n",
    "a = np.random.rand(1000000)\n",
    "b = np.random.rand(1000000)\n",
    "\n",
    "tic = time.time()\n",
    "c = np.dot(a,b)\n",
    "toc = time.time()\n",
    "elapsed_time = 1000*(toc - tic)\n",
    "print('* Vectorized version of dot product:', str(c))\n",
    "print('* Time elapsed for Vectorized version of production:', str(elapsed_time), 'ms')\n",
    "\n",
    "c=0\n",
    "tic = time.time()\n",
    "for i in range(1000000):\n",
    "    c += a[i]*b[i]\n",
    "toc = time.time()\n",
    "elapsed_time2 = 1000*(toc - tic)\n",
    "print('* Non-Vectorized with \"for\" version of dot product:', str(c))\n",
    "print('* Time elapsed for Non-Vectorized version with \"for\" of production:', str(elapsed_time2), 'ms')\n",
    "\n",
    "print(\"** Vectorized version is roughly {} times FASTER than the Non-Vectorized version\".format(round(elapsed_time2/elapsed_time)))"
   ]
  },
  {
   "cell_type": "code",
   "execution_count": 58,
   "metadata": {},
   "outputs": [
    {
     "name": "stdout",
     "output_type": "stream",
     "text": [
      "np.average(t) is  3.75\n",
      "np.mean(t) is  3.75\n",
      "np.sum(t)*1/4 is  3.75\n"
     ]
    }
   ],
   "source": [
    "t = [1, 3, 5, 6]\n",
    "t = np.array(t)\n",
    "print('np.average(t) is ', np.average(t))\n",
    "print('np.mean(t) is ', np.mean(t))\n",
    "print('np.sum(t)*1/4 is ', np.sum(t)*1/4)"
   ]
  }
 ],
 "metadata": {
  "kernelspec": {
   "display_name": "Python 3",
   "language": "python",
   "name": "python3"
  },
  "language_info": {
   "codemirror_mode": {
    "name": "ipython",
    "version": 3.0
   },
   "file_extension": ".py",
   "mimetype": "text/x-python",
   "name": "python",
   "nbconvert_exporter": "python",
   "pygments_lexer": "ipython3",
   "version": "3.5.2"
  }
 },
 "nbformat": 4,
 "nbformat_minor": 0
}