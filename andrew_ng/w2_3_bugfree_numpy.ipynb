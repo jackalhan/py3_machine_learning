{
 "cells": [
  {
   "cell_type": "code",
   "execution_count": 20,
   "metadata": {},
   "outputs": [],
   "source": [
    "import numpy as np\n",
    "\n",
    "# 5 random Gaussian varialbes stored in array\n",
    "a = np.random.randn(5)"
   ]
  },
  {
   "cell_type": "code",
   "execution_count": 21,
   "metadata": {},
   "outputs": [
    {
     "name": "stdout",
     "output_type": "stream",
     "text": [
      "[ 0.52363808  1.03122875 -0.0944527  -2.34943346 -0.00301575]\n"
     ]
    }
   ],
   "source": [
    "print(a)"
   ]
  },
  {
   "cell_type": "code",
   "execution_count": 22,
   "metadata": {},
   "outputs": [
    {
     "name": "stdout",
     "output_type": "stream",
     "text": [
      "(5,)\n"
     ]
    }
   ],
   "source": [
    "# it is neither a row vector or a column vector\n",
    "print(a.shape)"
   ]
  },
  {
   "cell_type": "code",
   "execution_count": 23,
   "metadata": {},
   "outputs": [
    {
     "name": "stdout",
     "output_type": "stream",
     "text": [
      "[ 0.52363808  1.03122875 -0.0944527  -2.34943346 -0.00301575]\n"
     ]
    }
   ],
   "source": [
    "# here is the issue of transpose of a\n",
    "# it will be as same as original a\n",
    "print(a.T)"
   ]
  },
  {
   "cell_type": "code",
   "execution_count": 24,
   "metadata": {},
   "outputs": [
    {
     "name": "stdout",
     "output_type": "stream",
     "text": [
      "6.86639757475\n"
     ]
    }
   ],
   "source": [
    "# inner product gives as real number \n",
    "# because it is not a real product of a and transpose of a)\n",
    "print(np.dot(a, a.T))"
   ]
  },
  {
   "cell_type": "code",
   "execution_count": 26,
   "metadata": {},
   "outputs": [
    {
     "name": "stdout",
     "output_type": "stream",
     "text": [
      "[[ 0.52363808]\n",
      " [ 1.03122875]\n",
      " [-0.0944527 ]\n",
      " [-2.34943346]\n",
      " [-0.00301575]]\n"
     ]
    }
   ],
   "source": [
    "# WE SHOULD NOT USE ANY OBJECT THAT HAS (n,)\n",
    "# THIS IS CALLED \"Rank 1 Array\", neither a row or a column vector\n",
    "# INSTEAD WE SHOULD USE THE FOLLOWING ONES.\n",
    " a = np.random.randn(5,1)\n",
    "# OR optional, we can call RESHAPE function like that\n",
    "# a = a.reshape(5,1)\n",
    "\n",
    "print(a)"
   ]
  },
  {
   "cell_type": "code",
   "execution_count": 10,
   "metadata": {},
   "outputs": [
    {
     "name": "stdout",
     "output_type": "stream",
     "text": [
      "(5, 1)\n"
     ]
    }
   ],
   "source": [
    "#it is now column vector. \n",
    "print(a.shape)"
   ]
  },
  {
   "cell_type": "code",
   "execution_count": 15,
   "metadata": {},
   "outputs": [
    {
     "name": "stdout",
     "output_type": "stream",
     "text": [
      "[[ 0.88547478 -0.58176226  0.61387296  1.06938143  0.05659591]]\n"
     ]
    }
   ],
   "source": [
    "# transpose of A is a row vector\n",
    "print(a.T)"
   ]
  },
  {
   "cell_type": "code",
   "execution_count": 16,
   "metadata": {},
   "outputs": [
    {
     "name": "stdout",
     "output_type": "stream",
     "text": [
      "(1, 5)\n"
     ]
    }
   ],
   "source": [
    "# shape of transpose of A\n",
    "print(a.T.shape)"
   ]
  },
  {
   "cell_type": "code",
   "execution_count": 17,
   "metadata": {},
   "outputs": [
    {
     "name": "stdout",
     "output_type": "stream",
     "text": [
      "[[ 0.78406558 -0.51513581  0.54356903  0.94691029  0.05011425]\n",
      " [-0.51513581  0.33844733 -0.35712813 -0.62212576 -0.03292536]\n",
      " [ 0.54356903 -0.35712813  0.37684002  0.65646435  0.0347427 ]\n",
      " [ 0.94691029 -0.62212576  0.65646435  1.14357665  0.06052261]\n",
      " [ 0.05011425 -0.03292536  0.0347427   0.06052261  0.0032031 ]]\n"
     ]
    }
   ],
   "source": [
    "# product of this a vector and transpose of a vector will give us a \n",
    "# outer product result which is going to be a (5,5) matrix\n",
    "calc = np.dot(a, a.T)\n",
    "print(calc)"
   ]
  },
  {
   "cell_type": "code",
   "execution_count": 18,
   "metadata": {},
   "outputs": [
    {
     "name": "stdout",
     "output_type": "stream",
     "text": [
      "(5, 5)\n"
     ]
    }
   ],
   "source": [
    "# it is a 5,5 matrix\n",
    "print(calc.shape)"
   ]
  },
  {
   "cell_type": "code",
   "execution_count": null,
   "metadata": {},
   "outputs": [],
   "source": [
    ""
   ]
  }
 ],
 "metadata": {
  "kernelspec": {
   "display_name": "Python 3",
   "language": "python",
   "name": "python3"
  },
  "language_info": {
   "codemirror_mode": {
    "name": "ipython",
    "version": 3.0
   },
   "file_extension": ".py",
   "mimetype": "text/x-python",
   "name": "python",
   "nbconvert_exporter": "python",
   "pygments_lexer": "ipython3",
   "version": "3.5.2"
  }
 },
 "nbformat": 4,
 "nbformat_minor": 0
}