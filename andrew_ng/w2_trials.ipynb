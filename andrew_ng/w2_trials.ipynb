{
 "cells": [
  {
   "cell_type": "code",
   "execution_count": 4,
   "metadata": {},
   "outputs": [
    {
     "name": "stdout",
     "output_type": "stream",
     "text": [
      "A\n",
      "[[ 1.30088556 -0.43082145  1.07012553]\n",
      " [ 0.96288589 -0.60946549 -0.57060877]]\n",
      "**********\n",
      "B\n",
      "[[ 1.18632775]\n",
      " [-1.86392964]]\n",
      "**********\n",
      "C\n",
      "[[ 2.48721331  0.7555063   2.25645329]\n",
      " [-0.90104375 -2.47339513 -2.43453841]]\n",
      "**********\n",
      "Shape of C\n",
      "(2, 3)\n"
     ]
    }
   ],
   "source": [
    "import numpy as np\n",
    "a = np.random.randn(2,3)\n",
    "print('A')\n",
    "print(a)\n",
    "print('*' * 10)\n",
    "\n",
    "b = np.random.randn(2,1)\n",
    "print('B')\n",
    "print(b)\n",
    "print('*' * 10)\n",
    "c = a + b\n",
    "print('C')\n",
    "print(c)\n",
    "print('*' * 10)\n",
    "\n",
    "print('Shape of C')\n",
    "print(c.shape)"
   ]
  },
  {
   "cell_type": "code",
   "execution_count": 5,
   "metadata": {},
   "outputs": [
    {
     "name": "stdout",
     "output_type": "stream",
     "text": [
      "A\n",
      "[[ 0.22664478  0.60493256  0.00992736]\n",
      " [ 2.20853672 -0.55545093  0.72704096]\n",
      " [ 1.35776243 -0.56942359  1.64928206]\n",
      " [-0.82705701 -1.91250082  1.17317006]]\n",
      "**********\n",
      "B\n",
      "[[-0.18771819  0.26108063]\n",
      " [ 0.50224163  1.35389117]\n",
      " [-0.3054836   0.78638834]]\n",
      "**********\n"
     ]
    },
    {
     "ename": "ValueError",
     "evalue": "operands could not be broadcast together with shapes (4,3) (3,2) ",
     "output_type": "error",
     "traceback": [
      "\u001b[0;31m---------------------------------------------------------------------------\u001b[0m",
      "\u001b[0;31mValueError\u001b[0m                                Traceback (most recent call last)",
      "\u001b[0;32m<ipython-input-5-98b240893327>\u001b[0m in \u001b[0;36m<module>\u001b[0;34m()\u001b[0m\n\u001b[1;32m      7\u001b[0m \u001b[0mprint\u001b[0m\u001b[0;34m(\u001b[0m\u001b[0mb\u001b[0m\u001b[0;34m)\u001b[0m\u001b[0;34m\u001b[0m\u001b[0m\n\u001b[1;32m      8\u001b[0m \u001b[0mprint\u001b[0m\u001b[0;34m(\u001b[0m\u001b[0;34m'*'\u001b[0m \u001b[0;34m*\u001b[0m \u001b[0;36m10\u001b[0m\u001b[0;34m)\u001b[0m\u001b[0;34m\u001b[0m\u001b[0m\n\u001b[0;32m----> 9\u001b[0;31m \u001b[0mc\u001b[0m \u001b[0;34m=\u001b[0m \u001b[0ma\u001b[0m \u001b[0;34m*\u001b[0m \u001b[0mb\u001b[0m\u001b[0;34m\u001b[0m\u001b[0m\n\u001b[0m\u001b[1;32m     10\u001b[0m \u001b[0mprint\u001b[0m\u001b[0;34m(\u001b[0m\u001b[0;34m'C'\u001b[0m\u001b[0;34m)\u001b[0m\u001b[0;34m\u001b[0m\u001b[0m\n\u001b[1;32m     11\u001b[0m \u001b[0mprint\u001b[0m\u001b[0;34m(\u001b[0m\u001b[0mc\u001b[0m\u001b[0;34m)\u001b[0m\u001b[0;34m\u001b[0m\u001b[0m\n",
      "\u001b[0;31mValueError\u001b[0m: operands could not be broadcast together with shapes (4,3) (3,2) "
     ]
    }
   ],
   "source": [
    "a = np.random.randn(4,3)\n",
    "print('A')\n",
    "print(a)\n",
    "print('*' * 10)\n",
    "b = np.random.randn(3,2)\n",
    "print('B')\n",
    "print(b)\n",
    "print('*' * 10)\n",
    "c = a * b\n",
    "print('C')\n",
    "print(c)\n",
    "print('*' * 10)\n",
    "print('Shape of C')\n",
    "print(c.shape)"
   ]
  },
  {
   "cell_type": "code",
   "execution_count": 7,
   "metadata": {},
   "outputs": [
    {
     "name": "stdout",
     "output_type": "stream",
     "text": [
      "A\n",
      "[[ 1.86913598  0.48841143  0.92722818 ..., -0.01357168 -1.78886757\n",
      "   0.22371165]\n",
      " [-0.51791176  0.24148572  0.00628409 ...,  1.32001014  0.15166995\n",
      "   0.54006193]\n",
      " [-0.12810871  1.25621181 -0.66179253 ...,  1.02461936  0.39990895\n",
      "   1.33987594]\n",
      " ..., \n",
      " [ 0.92455562  0.16989809 -0.71067646 ...,  0.05091817 -2.03656804\n",
      "  -0.14018263]\n",
      " [ 1.10183728  0.13779058  0.93724495 ...,  1.05206772 -0.88766629\n",
      "  -0.482449  ]\n",
      " [-0.78052733  1.7151497  -1.72678432 ..., -0.47370495  1.0714866\n",
      "  -1.14050637]]\n",
      "**********\n",
      "B\n",
      "[[-2.32747129  0.58687888  0.55232747 ..., -0.75190208 -0.54357527\n",
      "  -1.21424611]\n",
      " [-0.50037571  0.30056351 -0.12161582 ...,  0.68795521 -1.74973712\n",
      "  -0.91356162]\n",
      " [ 0.18329133 -0.23392555 -0.15855448 ..., -0.220245   -0.56529994\n",
      "   0.83426451]\n",
      " ..., \n",
      " [ 0.5846762  -2.10528289  0.75828974 ...,  0.07209809 -0.5379038\n",
      "  -0.92911517]\n",
      " [ 0.07726298  1.26082779 -0.7702171  ..., -0.08453616  1.04161631\n",
      "   1.83406555]\n",
      " [-0.22799668 -0.11679362 -0.36599305 ...,  1.57396273 -0.53764159\n",
      "   0.74018699]]\n",
      "**********\n"
     ]
    },
    {
     "ename": "ValueError",
     "evalue": "shapes (10000,50) and (300,15) not aligned: 50 (dim 1) != 300 (dim 0)",
     "output_type": "error",
     "traceback": [
      "\u001b[0;31m---------------------------------------------------------------------------\u001b[0m",
      "\u001b[0;31mValueError\u001b[0m                                Traceback (most recent call last)",
      "\u001b[0;32m<ipython-input-7-d424e6e8ce43>\u001b[0m in \u001b[0;36m<module>\u001b[0;34m()\u001b[0m\n\u001b[1;32m      7\u001b[0m \u001b[0mprint\u001b[0m\u001b[0;34m(\u001b[0m\u001b[0mb\u001b[0m\u001b[0;34m)\u001b[0m\u001b[0;34m\u001b[0m\u001b[0m\n\u001b[1;32m      8\u001b[0m \u001b[0mprint\u001b[0m\u001b[0;34m(\u001b[0m\u001b[0;34m'*'\u001b[0m \u001b[0;34m*\u001b[0m \u001b[0;36m10\u001b[0m\u001b[0;34m)\u001b[0m\u001b[0;34m\u001b[0m\u001b[0m\n\u001b[0;32m----> 9\u001b[0;31m \u001b[0mc\u001b[0m \u001b[0;34m=\u001b[0m \u001b[0mnp\u001b[0m\u001b[0;34m.\u001b[0m\u001b[0mdot\u001b[0m\u001b[0;34m(\u001b[0m\u001b[0ma\u001b[0m\u001b[0;34m,\u001b[0m\u001b[0mb\u001b[0m\u001b[0;34m)\u001b[0m\u001b[0;34m\u001b[0m\u001b[0m\n\u001b[0m\u001b[1;32m     10\u001b[0m \u001b[0mprint\u001b[0m\u001b[0;34m(\u001b[0m\u001b[0;34m'C'\u001b[0m\u001b[0;34m)\u001b[0m\u001b[0;34m\u001b[0m\u001b[0m\n\u001b[1;32m     11\u001b[0m \u001b[0mprint\u001b[0m\u001b[0;34m(\u001b[0m\u001b[0mc\u001b[0m\u001b[0;34m)\u001b[0m\u001b[0;34m\u001b[0m\u001b[0m\n",
      "\u001b[0;31mValueError\u001b[0m: shapes (10000,50) and (300,15) not aligned: 50 (dim 1) != 300 (dim 0)"
     ]
    }
   ],
   "source": [
    "a = np.random.randn(10000,50)\n",
    "print('A')\n",
    "print(a)\n",
    "print('*' * 10)\n",
    "b = np.random.randn(300, 15)\n",
    "print('B')\n",
    "print(b)\n",
    "print('*' * 10)\n",
    "c = np.dot(a,b)\n",
    "print('C')\n",
    "print(c)\n",
    "print('*' * 10)\n",
    "print('Shape of C')\n",
    "print(c.shape)"
   ]
  },
  {
   "cell_type": "code",
   "execution_count": 18,
   "metadata": {},
   "outputs": [
    {
     "name": "stdout",
     "output_type": "stream",
     "text": [
      "A\n",
      "[[-0.9492829  -2.56425912 -0.36904964]\n",
      " [-0.38402994  0.30711671  1.31600301]\n",
      " [ 0.45725336 -0.09717005 -0.59875639]]\n",
      "**********\n",
      "B\n",
      "[[-0.36819899]\n",
      " [ 0.62836748]\n",
      " [ 0.38290264]]\n",
      "**********\n",
      "C\n",
      "[[ 0.34952501  0.94415763  0.13588371]\n",
      " [-0.24131193  0.19298215  0.8269335 ]\n",
      " [ 0.17508352 -0.03720667 -0.2292654 ]]\n",
      "**********\n",
      "Shape of C\n",
      "(3, 3)\n"
     ]
    }
   ],
   "source": [
    "a = np.random.randn(3,3)\n",
    "print('A')\n",
    "print(a)\n",
    "print('*' * 10)\n",
    "b = np.random.randn(3, 1)\n",
    "print('B')\n",
    "print(b)\n",
    "print('*' * 10)\n",
    "    \n",
    "c = a * b\n",
    "print('C')\n",
    "print(c)\n",
    "print('*' * 10)\n",
    "print('Shape of C')\n",
    "print(c.shape)"
   ]
  },
  {
   "cell_type": "code",
   "execution_count": 25,
   "metadata": {},
   "outputs": [],
   "source": [
    "image = np.array([[[ 0.67826139,  0.29380381],\n",
    "        [ 0.90714982,  0.52835647],\n",
    "        [ 0.4215251 ,  0.45017551]],\n",
    "\n",
    "       [[ 0.92814219,  0.96677647],\n",
    "        [ 0.85304703,  0.52351845],\n",
    "        [ 0.19981397,  0.27417313]],\n",
    "\n",
    "       [[ 0.60659855,  0.00533165],\n",
    "        [ 0.10820313,  0.49978937],\n",
    "        [ 0.34144279,  0.94630077]],\n",
    "                 [[ 0.60659855,  0.00533165],\n",
    "        [ 0.10820313,  0.49978937],\n",
    "        [ 0.34144279,  0.94630077]]])"
   ]
  },
  {
   "cell_type": "code",
   "execution_count": 26,
   "metadata": {},
   "outputs": [
    {
     "data": {
      "text/plain": [
       "(4, 3, 2)"
      ]
     },
     "execution_count": 26,
     "metadata": {},
     "output_type": "execute_result"
    }
   ],
   "source": [
    "image.shape"
   ]
  }
 ],
 "metadata": {
  "kernelspec": {
   "display_name": "Python 3",
   "language": "python",
   "name": "python3"
  },
  "language_info": {
   "codemirror_mode": {
    "name": "ipython",
    "version": 3
   },
   "file_extension": ".py",
   "mimetype": "text/x-python",
   "name": "python",
   "nbconvert_exporter": "python",
   "pygments_lexer": "ipython3",
   "version": "3.5.2"
  }
 },
 "nbformat": 4,
 "nbformat_minor": 2
}
